{
 "cells": [
  {
   "cell_type": "markdown",
   "id": "fe424e83-8a1e-48ba-b9d4-0e22daa3163e",
   "metadata": {},
   "source": [
    "## Full Extraction\n",
    "Full extraction refers to extracting **all** data from a source system each time the extraction process runs, regardless of whether the data has changed or not.\n",
    "\n",
    "**Characteristics:**\n",
    "- Simpler to implement as it doesn't require tracking changes\n",
    "- Guarantees data consistency between source and target\n",
    "- Resource-intensive (requires processing all data every time)\n",
    "- Slower, especially with large datasets\n",
    "- May require more storage space\n",
    "\n",
    "**Use cases:** Small datasets, when source systems don't support change tracking, initial loads\n",
    "\n",
    "Let's fully extract all the records found in our source."
   ]
  },
  {
   "cell_type": "code",
   "execution_count": 3,
   "id": "a5508d0c-b13d-4205-8c0e-fd6707e1afef",
   "metadata": {},
   "outputs": [
    {
     "name": "stdout",
     "output_type": "stream",
     "text": [
      "Extracted 1256 rows fully.\n",
      "Shape: (1256, 6)\n"
     ]
    }
   ],
   "source": [
    "import pandas as pd\n",
    "\n",
    "# Load full dataset\n",
    "full_df = pd.read_csv(\"google_5yr_one.csv\")\n",
    "\n",
    "# Display basic stats\n",
    "print(f\"Extracted {len(full_df)} rows fully.\")\n",
    "print(\"Shape:\", full_df.shape)"
   ]
  },
  {
   "cell_type": "markdown",
   "id": "67653f52-3b62-4641-96c0-c802a480a10e",
   "metadata": {},
   "source": [
    "## Incremental Extraction\n",
    "Incremental extraction only retrieves data that has **changed** since the last extraction.\n",
    "\n",
    "**Characteristics:**\n",
    "- More complex to implement (requires change tracking)\n",
    "- More efficient (processes only changed data)\n",
    "- Faster execution\n",
    "- Less resource-intensive\n",
    "- Requires reliable change tracking mechanisms\n",
    "\n",
    "**Types of incremental extraction:**\n",
    "1. **Date/time-based:** Uses timestamp columns\n",
    "2. **Version number-based:** Uses version or sequence numbers\n",
    "3. **Log-based:** Reads database transaction logs\n",
    "4. **Trigger-based:** Uses database triggers to track changes\n",
    "\n",
    "**Use cases:** Large datasets, frequent updates, when source systems support change tracking\n",
    "\n",
    "First, let's create a text file to track our last date of extraction. Let say the last time we extracted data was on January 1st, 2025."
   ]
  },
  {
   "cell_type": "code",
   "execution_count": 5,
   "id": "df163d60-c481-4881-bcdd-c276a25b4670",
   "metadata": {},
   "outputs": [
    {
     "name": "stdout",
     "output_type": "stream",
     "text": [
      "Last extraction time saved as 'last_extraction.txt'\n"
     ]
    }
   ],
   "source": [
    "from datetime import datetime\n",
    "\n",
    "# Save last extraction date timestamp to last_extraction.txt\n",
    "last_extraction = datetime(2025, 1, 1, 0, 0, 0).strftime(\"%Y-%m-%d %H:%M:%S\")\n",
    "with open(\"last_extraction.txt\", \"w\") as f:\n",
    "    f.write(last_extraction)\n",
    "print(\"Last extraction time saved as 'last_extraction.txt'\")"
   ]
  },
  {
   "cell_type": "markdown",
   "id": "54771979-15f9-4798-8485-e8e239bf823a",
   "metadata": {},
   "source": [
    "**Now, we can extract the data recorded after our last time of extraction, which is January 1st, 2025.**"
   ]
  },
  {
   "cell_type": "code",
   "execution_count": 7,
   "id": "54ab6268-556a-454c-b5d4-7c4dadef1cf2",
   "metadata": {},
   "outputs": [
    {
     "name": "stdout",
     "output_type": "stream",
     "text": [
      "Extracted 103 rows incrementally since '2025-01-01 00:00:00'.\n",
      "Shape: (103, 6)\n"
     ]
    }
   ],
   "source": [
    "# Read last extraction timestamp\n",
    "with open(\"last_extraction.txt\", \"r\") as f:\n",
    "    last_extraction_str = f.read().strip()\n",
    "\n",
    "last_extraction = datetime.strptime(last_extraction_str, \"%Y-%m-%d %H:%M:%S\")\n",
    "\n",
    "data = pd.read_csv(\"google_5yr_one.csv\")\n",
    "\n",
    "# Convert 'Date' column to datetime\n",
    "data[\"Date\"] = pd.to_datetime(data[\"Date\"])\n",
    "\n",
    "# Filter for rows after last extraction\n",
    "incremental_df = data[data[\"Date\"] > last_extraction]\n",
    "\n",
    "print(f\"Extracted {len(incremental_df)} rows incrementally since '{last_extraction}'.\")\n",
    "print(\"Shape:\", incremental_df.shape)"
   ]
  },
  {
   "cell_type": "markdown",
   "id": "66587477-9e8d-44c0-8f56-de4c78038051",
   "metadata": {},
   "source": [
    "**Update the last time of extraction.**"
   ]
  },
  {
   "cell_type": "code",
   "execution_count": 9,
   "id": "93499ff8-df7c-4911-91ff-50864767fd81",
   "metadata": {},
   "outputs": [
    {
     "name": "stdout",
     "output_type": "stream",
     "text": [
      "Last extraction date updated to '2025-06-16 00:25:15'.\n"
     ]
    }
   ],
   "source": [
    "# Save current timestamp to last_extraction.txt\n",
    "now = datetime.now().strftime(\"%Y-%m-%d %H:%M:%S\")\n",
    "with open(\"last_extraction.txt\", \"w\") as f:\n",
    "    f.write(now)\n",
    "\n",
    "print(f\"Last extraction date updated to '{now}'.\")"
   ]
  },
  {
   "cell_type": "markdown",
   "id": "53dd8217-ae37-4487-a97a-aa2fbd4eeb44",
   "metadata": {},
   "source": [
    "### Full Data Transformation "
   ]
  },
  {
   "cell_type": "code",
   "execution_count": 11,
   "id": "e3dfd7a8-065e-4b78-b350-70a52e60f318",
   "metadata": {},
   "outputs": [
    {
     "data": {
      "text/html": [
       "<div>\n",
       "<style scoped>\n",
       "    .dataframe tbody tr th:only-of-type {\n",
       "        vertical-align: middle;\n",
       "    }\n",
       "\n",
       "    .dataframe tbody tr th {\n",
       "        vertical-align: top;\n",
       "    }\n",
       "\n",
       "    .dataframe thead th {\n",
       "        text-align: right;\n",
       "    }\n",
       "</style>\n",
       "<table border=\"1\" class=\"dataframe\">\n",
       "  <thead>\n",
       "    <tr style=\"text-align: right;\">\n",
       "      <th></th>\n",
       "      <th>Date</th>\n",
       "      <th>Close</th>\n",
       "      <th>High</th>\n",
       "      <th>Low</th>\n",
       "      <th>Open</th>\n",
       "      <th>Volume</th>\n",
       "    </tr>\n",
       "  </thead>\n",
       "  <tbody>\n",
       "    <tr>\n",
       "      <th>0</th>\n",
       "      <td>NaN</td>\n",
       "      <td>GOOGL</td>\n",
       "      <td>GOOGL</td>\n",
       "      <td>GOOGL</td>\n",
       "      <td>GOOGL</td>\n",
       "      <td>GOOGL</td>\n",
       "    </tr>\n",
       "    <tr>\n",
       "      <th>1</th>\n",
       "      <td>2020-06-04</td>\n",
       "      <td>70.3785171508789</td>\n",
       "      <td>71.72309429138843</td>\n",
       "      <td>69.96599205492319</td>\n",
       "      <td>71.4971694316438</td>\n",
       "      <td>26982000</td>\n",
       "    </tr>\n",
       "    <tr>\n",
       "      <th>2</th>\n",
       "      <td>2020-06-05</td>\n",
       "      <td>71.65840148925781</td>\n",
       "      <td>71.9709103787135</td>\n",
       "      <td>70.0461071028752</td>\n",
       "      <td>70.44520002096422</td>\n",
       "      <td>42642000</td>\n",
       "    </tr>\n",
       "    <tr>\n",
       "      <th>3</th>\n",
       "      <td>2020-06-08</td>\n",
       "      <td>72.05748748779297</td>\n",
       "      <td>72.10525562528537</td>\n",
       "      <td>70.88509140875318</td>\n",
       "      <td>70.974667107052</td>\n",
       "      <td>33878000</td>\n",
       "    </tr>\n",
       "    <tr>\n",
       "      <th>4</th>\n",
       "      <td>2020-06-09</td>\n",
       "      <td>72.25852966308594</td>\n",
       "      <td>73.04079279119881</td>\n",
       "      <td>71.77484210279437</td>\n",
       "      <td>71.91816171630913</td>\n",
       "      <td>33624000</td>\n",
       "    </tr>\n",
       "  </tbody>\n",
       "</table>\n",
       "</div>"
      ],
      "text/plain": [
       "         Date              Close               High                Low  \\\n",
       "0         NaN              GOOGL              GOOGL              GOOGL   \n",
       "1  2020-06-04   70.3785171508789  71.72309429138843  69.96599205492319   \n",
       "2  2020-06-05  71.65840148925781   71.9709103787135   70.0461071028752   \n",
       "3  2020-06-08  72.05748748779297  72.10525562528537  70.88509140875318   \n",
       "4  2020-06-09  72.25852966308594  73.04079279119881  71.77484210279437   \n",
       "\n",
       "                Open    Volume  \n",
       "0              GOOGL     GOOGL  \n",
       "1   71.4971694316438  26982000  \n",
       "2  70.44520002096422  42642000  \n",
       "3    70.974667107052  33878000  \n",
       "4  71.91816171630913  33624000  "
      ]
     },
     "execution_count": 11,
     "metadata": {},
     "output_type": "execute_result"
    }
   ],
   "source": [
    "full_df.head()"
   ]
  },
  {
   "cell_type": "markdown",
   "id": "f93be05a-3509-4786-bf73-59946d46070f",
   "metadata": {},
   "source": [
    "The first record (index 0) appears to be invalid/malformed data with these characteristics:\n",
    "\n",
    "Date: NaN (pandas' representation of missing values)\n",
    "\n",
    "All other columns: Contain the string \"GOOGL\" instead of numerical values\n",
    "\n",
    "Volume: Also shows \"GOOGL\" instead of a numeric volume count\n",
    "\n",
    "This is likely a header row that was incorrectly parsed as data during CSV import"
   ]
  },
  {
   "cell_type": "code",
   "execution_count": 13,
   "id": "16443dbb-b88a-4b9f-87f2-1cd9d6ec071d",
   "metadata": {},
   "outputs": [
    {
     "data": {
      "text/html": [
       "<div>\n",
       "<style scoped>\n",
       "    .dataframe tbody tr th:only-of-type {\n",
       "        vertical-align: middle;\n",
       "    }\n",
       "\n",
       "    .dataframe tbody tr th {\n",
       "        vertical-align: top;\n",
       "    }\n",
       "\n",
       "    .dataframe thead th {\n",
       "        text-align: right;\n",
       "    }\n",
       "</style>\n",
       "<table border=\"1\" class=\"dataframe\">\n",
       "  <thead>\n",
       "    <tr style=\"text-align: right;\">\n",
       "      <th></th>\n",
       "      <th>Date</th>\n",
       "      <th>Close</th>\n",
       "      <th>High</th>\n",
       "      <th>Low</th>\n",
       "      <th>Open</th>\n",
       "      <th>Volume</th>\n",
       "    </tr>\n",
       "  </thead>\n",
       "  <tbody>\n",
       "    <tr>\n",
       "      <th>1</th>\n",
       "      <td>2020-06-04</td>\n",
       "      <td>70.3785171508789</td>\n",
       "      <td>71.72309429138843</td>\n",
       "      <td>69.96599205492319</td>\n",
       "      <td>71.4971694316438</td>\n",
       "      <td>26982000</td>\n",
       "    </tr>\n",
       "    <tr>\n",
       "      <th>2</th>\n",
       "      <td>2020-06-05</td>\n",
       "      <td>71.65840148925781</td>\n",
       "      <td>71.9709103787135</td>\n",
       "      <td>70.0461071028752</td>\n",
       "      <td>70.44520002096422</td>\n",
       "      <td>42642000</td>\n",
       "    </tr>\n",
       "    <tr>\n",
       "      <th>3</th>\n",
       "      <td>2020-06-08</td>\n",
       "      <td>72.05748748779297</td>\n",
       "      <td>72.10525562528537</td>\n",
       "      <td>70.88509140875318</td>\n",
       "      <td>70.974667107052</td>\n",
       "      <td>33878000</td>\n",
       "    </tr>\n",
       "    <tr>\n",
       "      <th>4</th>\n",
       "      <td>2020-06-09</td>\n",
       "      <td>72.25852966308594</td>\n",
       "      <td>73.04079279119881</td>\n",
       "      <td>71.77484210279437</td>\n",
       "      <td>71.91816171630913</td>\n",
       "      <td>33624000</td>\n",
       "    </tr>\n",
       "    <tr>\n",
       "      <th>5</th>\n",
       "      <td>2020-06-10</td>\n",
       "      <td>72.88652801513672</td>\n",
       "      <td>73.28810385800969</td>\n",
       "      <td>72.37198974644225</td>\n",
       "      <td>72.72778683921254</td>\n",
       "      <td>31762000</td>\n",
       "    </tr>\n",
       "  </tbody>\n",
       "</table>\n",
       "</div>"
      ],
      "text/plain": [
       "         Date              Close               High                Low  \\\n",
       "1  2020-06-04   70.3785171508789  71.72309429138843  69.96599205492319   \n",
       "2  2020-06-05  71.65840148925781   71.9709103787135   70.0461071028752   \n",
       "3  2020-06-08  72.05748748779297  72.10525562528537  70.88509140875318   \n",
       "4  2020-06-09  72.25852966308594  73.04079279119881  71.77484210279437   \n",
       "5  2020-06-10  72.88652801513672  73.28810385800969  72.37198974644225   \n",
       "\n",
       "                Open    Volume  \n",
       "1   71.4971694316438  26982000  \n",
       "2  70.44520002096422  42642000  \n",
       "3    70.974667107052  33878000  \n",
       "4  71.91816171630913  33624000  \n",
       "5  72.72778683921254  31762000  "
      ]
     },
     "execution_count": 13,
     "metadata": {},
     "output_type": "execute_result"
    }
   ],
   "source": [
    "# Remove the first record\n",
    "full_df = full_df.iloc[1:]\n",
    "full_df.head()"
   ]
  },
  {
   "cell_type": "code",
   "execution_count": 14,
   "id": "856e0de6-1897-4801-9e64-3ec04e78f461",
   "metadata": {},
   "outputs": [
    {
     "name": "stdout",
     "output_type": "stream",
     "text": [
      "<class 'pandas.core.frame.DataFrame'>\n",
      "RangeIndex: 1255 entries, 1 to 1255\n",
      "Data columns (total 6 columns):\n",
      " #   Column  Non-Null Count  Dtype \n",
      "---  ------  --------------  ----- \n",
      " 0   Date    1255 non-null   object\n",
      " 1   Close   1255 non-null   object\n",
      " 2   High    1255 non-null   object\n",
      " 3   Low     1255 non-null   object\n",
      " 4   Open    1255 non-null   object\n",
      " 5   Volume  1255 non-null   object\n",
      "dtypes: object(6)\n",
      "memory usage: 59.0+ KB\n"
     ]
    }
   ],
   "source": [
    "# Check data types of the columns\n",
    "full_df.info()"
   ]
  },
  {
   "cell_type": "markdown",
   "id": "a1196b2e-9733-4909-8682-2119849b3090",
   "metadata": {},
   "source": [
    "Each column has incorrect data type.\n",
    "\n",
    "Let's change their types into their appropriate ones."
   ]
  },
  {
   "cell_type": "code",
   "execution_count": 16,
   "id": "b785db6a-85d6-49bd-ad24-37f5762ff198",
   "metadata": {},
   "outputs": [
    {
     "name": "stdout",
     "output_type": "stream",
     "text": [
      "<class 'pandas.core.frame.DataFrame'>\n",
      "RangeIndex: 1255 entries, 1 to 1255\n",
      "Data columns (total 6 columns):\n",
      " #   Column  Non-Null Count  Dtype         \n",
      "---  ------  --------------  -----         \n",
      " 0   Date    1255 non-null   datetime64[ns]\n",
      " 1   Close   1255 non-null   float64       \n",
      " 2   High    1255 non-null   float64       \n",
      " 3   Low     1255 non-null   float64       \n",
      " 4   Open    1255 non-null   float64       \n",
      " 5   Volume  1255 non-null   int32         \n",
      "dtypes: datetime64[ns](1), float64(4), int32(1)\n",
      "memory usage: 54.1 KB\n"
     ]
    }
   ],
   "source": [
    "full_df[\"Date\"] = pd.to_datetime(full_df[\"Date\"])\n",
    "full_df[\"Close\"] = full_df[\"Close\"].astype(\"float\")\n",
    "full_df[\"High\"] = full_df[\"High\"].astype(\"float\")\n",
    "full_df[\"Low\"] = full_df[\"Low\"].astype(\"float\")\n",
    "full_df[\"Open\"] = full_df[\"Open\"].astype(\"float\")\n",
    "full_df[\"Volume\"] = full_df[\"Volume\"].astype(\"int\")\n",
    "\n",
    "full_df.info()"
   ]
  },
  {
   "cell_type": "code",
   "execution_count": 17,
   "id": "bf0e6a90-212e-430b-aa23-e92d50d5b978",
   "metadata": {},
   "outputs": [
    {
     "data": {
      "text/plain": [
       "0"
      ]
     },
     "execution_count": 17,
     "metadata": {},
     "output_type": "execute_result"
    }
   ],
   "source": [
    "# Check for duplicates\n",
    "full_df.duplicated().sum()"
   ]
  },
  {
   "cell_type": "markdown",
   "id": "de4ae0de-dd22-4520-8ecd-43f3b5cfa02b",
   "metadata": {},
   "source": [
    "As we can see from the output, we don't have any duplicated values."
   ]
  },
  {
   "cell_type": "code",
   "execution_count": 19,
   "id": "f10493fd-93af-48bf-bb50-5b9da16a5fa3",
   "metadata": {},
   "outputs": [
    {
     "data": {
      "text/plain": [
       "0"
      ]
     },
     "execution_count": 19,
     "metadata": {},
     "output_type": "execute_result"
    }
   ],
   "source": [
    "# Check for missing values\n",
    "full_df.isnull().sum().sum()"
   ]
  },
  {
   "cell_type": "markdown",
   "id": "2a141690-d62c-4a8b-9faf-3491b4e89333",
   "metadata": {},
   "source": [
    "Our data doesn't contain missing values."
   ]
  },
  {
   "cell_type": "code",
   "execution_count": 21,
   "id": "0be80fc9-d74f-42db-ba53-e793edf09146",
   "metadata": {},
   "outputs": [
    {
     "data": {
      "text/html": [
       "<div>\n",
       "<style scoped>\n",
       "    .dataframe tbody tr th:only-of-type {\n",
       "        vertical-align: middle;\n",
       "    }\n",
       "\n",
       "    .dataframe tbody tr th {\n",
       "        vertical-align: top;\n",
       "    }\n",
       "\n",
       "    .dataframe thead th {\n",
       "        text-align: right;\n",
       "    }\n",
       "</style>\n",
       "<table border=\"1\" class=\"dataframe\">\n",
       "  <thead>\n",
       "    <tr style=\"text-align: right;\">\n",
       "      <th></th>\n",
       "      <th>Date</th>\n",
       "      <th>Close</th>\n",
       "      <th>High</th>\n",
       "      <th>Low</th>\n",
       "      <th>Open</th>\n",
       "      <th>Volume</th>\n",
       "      <th>price_range</th>\n",
       "    </tr>\n",
       "  </thead>\n",
       "  <tbody>\n",
       "    <tr>\n",
       "      <th>1</th>\n",
       "      <td>2020-06-04</td>\n",
       "      <td>70.378517</td>\n",
       "      <td>71.723094</td>\n",
       "      <td>69.965992</td>\n",
       "      <td>71.497169</td>\n",
       "      <td>26982000</td>\n",
       "      <td>Low</td>\n",
       "    </tr>\n",
       "    <tr>\n",
       "      <th>2</th>\n",
       "      <td>2020-06-05</td>\n",
       "      <td>71.658401</td>\n",
       "      <td>71.970910</td>\n",
       "      <td>70.046107</td>\n",
       "      <td>70.445200</td>\n",
       "      <td>42642000</td>\n",
       "      <td>Low</td>\n",
       "    </tr>\n",
       "    <tr>\n",
       "      <th>3</th>\n",
       "      <td>2020-06-08</td>\n",
       "      <td>72.057487</td>\n",
       "      <td>72.105256</td>\n",
       "      <td>70.885091</td>\n",
       "      <td>70.974667</td>\n",
       "      <td>33878000</td>\n",
       "      <td>Low</td>\n",
       "    </tr>\n",
       "    <tr>\n",
       "      <th>4</th>\n",
       "      <td>2020-06-09</td>\n",
       "      <td>72.258530</td>\n",
       "      <td>73.040793</td>\n",
       "      <td>71.774842</td>\n",
       "      <td>71.918162</td>\n",
       "      <td>33624000</td>\n",
       "      <td>Low</td>\n",
       "    </tr>\n",
       "    <tr>\n",
       "      <th>5</th>\n",
       "      <td>2020-06-10</td>\n",
       "      <td>72.886528</td>\n",
       "      <td>73.288104</td>\n",
       "      <td>72.371990</td>\n",
       "      <td>72.727787</td>\n",
       "      <td>31762000</td>\n",
       "      <td>Low</td>\n",
       "    </tr>\n",
       "    <tr>\n",
       "      <th>6</th>\n",
       "      <td>2020-06-11</td>\n",
       "      <td>69.761475</td>\n",
       "      <td>72.234651</td>\n",
       "      <td>69.587805</td>\n",
       "      <td>71.708662</td>\n",
       "      <td>47144000</td>\n",
       "      <td>Low</td>\n",
       "    </tr>\n",
       "    <tr>\n",
       "      <th>7</th>\n",
       "      <td>2020-06-12</td>\n",
       "      <td>70.309853</td>\n",
       "      <td>71.384214</td>\n",
       "      <td>68.960302</td>\n",
       "      <td>70.953770</td>\n",
       "      <td>36676000</td>\n",
       "      <td>Low</td>\n",
       "    </tr>\n",
       "    <tr>\n",
       "      <th>8</th>\n",
       "      <td>2020-06-15</td>\n",
       "      <td>70.698990</td>\n",
       "      <td>70.910974</td>\n",
       "      <td>69.029968</td>\n",
       "      <td>69.143925</td>\n",
       "      <td>30468000</td>\n",
       "      <td>Low</td>\n",
       "    </tr>\n",
       "    <tr>\n",
       "      <th>9</th>\n",
       "      <td>2020-06-16</td>\n",
       "      <td>71.979370</td>\n",
       "      <td>72.511821</td>\n",
       "      <td>71.109528</td>\n",
       "      <td>72.105264</td>\n",
       "      <td>30648000</td>\n",
       "      <td>Low</td>\n",
       "    </tr>\n",
       "    <tr>\n",
       "      <th>10</th>\n",
       "      <td>2020-06-17</td>\n",
       "      <td>72.281425</td>\n",
       "      <td>72.762129</td>\n",
       "      <td>71.415069</td>\n",
       "      <td>72.301335</td>\n",
       "      <td>30610000</td>\n",
       "      <td>Low</td>\n",
       "    </tr>\n",
       "  </tbody>\n",
       "</table>\n",
       "</div>"
      ],
      "text/plain": [
       "         Date      Close       High        Low       Open    Volume  \\\n",
       "1  2020-06-04  70.378517  71.723094  69.965992  71.497169  26982000   \n",
       "2  2020-06-05  71.658401  71.970910  70.046107  70.445200  42642000   \n",
       "3  2020-06-08  72.057487  72.105256  70.885091  70.974667  33878000   \n",
       "4  2020-06-09  72.258530  73.040793  71.774842  71.918162  33624000   \n",
       "5  2020-06-10  72.886528  73.288104  72.371990  72.727787  31762000   \n",
       "6  2020-06-11  69.761475  72.234651  69.587805  71.708662  47144000   \n",
       "7  2020-06-12  70.309853  71.384214  68.960302  70.953770  36676000   \n",
       "8  2020-06-15  70.698990  70.910974  69.029968  69.143925  30468000   \n",
       "9  2020-06-16  71.979370  72.511821  71.109528  72.105264  30648000   \n",
       "10 2020-06-17  72.281425  72.762129  71.415069  72.301335  30610000   \n",
       "\n",
       "   price_range  \n",
       "1          Low  \n",
       "2          Low  \n",
       "3          Low  \n",
       "4          Low  \n",
       "5          Low  \n",
       "6          Low  \n",
       "7          Low  \n",
       "8          Low  \n",
       "9          Low  \n",
       "10         Low  "
      ]
     },
     "execution_count": 21,
     "metadata": {},
     "output_type": "execute_result"
    }
   ],
   "source": [
    "# Add a new column: price_range based on 'Close' price\n",
    "bins = [0, 100, 150, 200, float('inf')]\n",
    "labels = ['Low', 'Medium', 'High', 'Very High']\n",
    "full_df['price_range'] = pd.cut(full_df['Close'], bins=bins, labels=labels)\n",
    "full_df.head(10)"
   ]
  },
  {
   "cell_type": "code",
   "execution_count": 22,
   "id": "ea74110a-61ff-4273-a626-ed74270683bf",
   "metadata": {},
   "outputs": [
    {
     "data": {
      "text/html": [
       "<div>\n",
       "<style scoped>\n",
       "    .dataframe tbody tr th:only-of-type {\n",
       "        vertical-align: middle;\n",
       "    }\n",
       "\n",
       "    .dataframe tbody tr th {\n",
       "        vertical-align: top;\n",
       "    }\n",
       "\n",
       "    .dataframe thead th {\n",
       "        text-align: right;\n",
       "    }\n",
       "</style>\n",
       "<table border=\"1\" class=\"dataframe\">\n",
       "  <thead>\n",
       "    <tr style=\"text-align: right;\">\n",
       "      <th></th>\n",
       "      <th>Date</th>\n",
       "      <th>Close</th>\n",
       "      <th>High</th>\n",
       "      <th>Low</th>\n",
       "      <th>Open</th>\n",
       "      <th>Volume</th>\n",
       "      <th>price_range</th>\n",
       "    </tr>\n",
       "  </thead>\n",
       "  <tbody>\n",
       "    <tr>\n",
       "      <th>1</th>\n",
       "      <td>2020-06-04</td>\n",
       "      <td>70.378517</td>\n",
       "      <td>71.723094</td>\n",
       "      <td>69.965992</td>\n",
       "      <td>71.497169</td>\n",
       "      <td>26982000</td>\n",
       "      <td>Low</td>\n",
       "    </tr>\n",
       "    <tr>\n",
       "      <th>2</th>\n",
       "      <td>2020-06-05</td>\n",
       "      <td>71.658401</td>\n",
       "      <td>71.970910</td>\n",
       "      <td>70.046107</td>\n",
       "      <td>70.445200</td>\n",
       "      <td>42642000</td>\n",
       "      <td>Low</td>\n",
       "    </tr>\n",
       "    <tr>\n",
       "      <th>3</th>\n",
       "      <td>2020-06-08</td>\n",
       "      <td>72.057487</td>\n",
       "      <td>72.105256</td>\n",
       "      <td>70.885091</td>\n",
       "      <td>70.974667</td>\n",
       "      <td>33878000</td>\n",
       "      <td>Low</td>\n",
       "    </tr>\n",
       "    <tr>\n",
       "      <th>4</th>\n",
       "      <td>2020-06-09</td>\n",
       "      <td>72.258530</td>\n",
       "      <td>73.040793</td>\n",
       "      <td>71.774842</td>\n",
       "      <td>71.918162</td>\n",
       "      <td>33624000</td>\n",
       "      <td>Low</td>\n",
       "    </tr>\n",
       "    <tr>\n",
       "      <th>5</th>\n",
       "      <td>2020-06-10</td>\n",
       "      <td>72.886528</td>\n",
       "      <td>73.288104</td>\n",
       "      <td>72.371990</td>\n",
       "      <td>72.727787</td>\n",
       "      <td>31762000</td>\n",
       "      <td>Low</td>\n",
       "    </tr>\n",
       "  </tbody>\n",
       "</table>\n",
       "</div>"
      ],
      "text/plain": [
       "        Date      Close       High        Low       Open    Volume price_range\n",
       "1 2020-06-04  70.378517  71.723094  69.965992  71.497169  26982000         Low\n",
       "2 2020-06-05  71.658401  71.970910  70.046107  70.445200  42642000         Low\n",
       "3 2020-06-08  72.057487  72.105256  70.885091  70.974667  33878000         Low\n",
       "4 2020-06-09  72.258530  73.040793  71.774842  71.918162  33624000         Low\n",
       "5 2020-06-10  72.886528  73.288104  72.371990  72.727787  31762000         Low"
      ]
     },
     "execution_count": 22,
     "metadata": {},
     "output_type": "execute_result"
    }
   ],
   "source": [
    "# Save transformed data\n",
    "full_df.to_csv(\"Download/transformed_full.csv\", index=False)\n",
    "\n",
    "# Preview transformed full data\n",
    "full_df.head()"
   ]
  },
  {
   "cell_type": "markdown",
   "id": "fa040b67-326f-4408-9754-86415eef41b4",
   "metadata": {},
   "source": [
    "### Incremental Data Transformation"
   ]
  },
  {
   "cell_type": "code",
   "execution_count": 24,
   "id": "40efbec4-1e39-40b2-bdc6-c9039c9b7439",
   "metadata": {},
   "outputs": [
    {
     "data": {
      "text/html": [
       "<div>\n",
       "<style scoped>\n",
       "    .dataframe tbody tr th:only-of-type {\n",
       "        vertical-align: middle;\n",
       "    }\n",
       "\n",
       "    .dataframe tbody tr th {\n",
       "        vertical-align: top;\n",
       "    }\n",
       "\n",
       "    .dataframe thead th {\n",
       "        text-align: right;\n",
       "    }\n",
       "</style>\n",
       "<table border=\"1\" class=\"dataframe\">\n",
       "  <thead>\n",
       "    <tr style=\"text-align: right;\">\n",
       "      <th></th>\n",
       "      <th>Date</th>\n",
       "      <th>Close</th>\n",
       "      <th>High</th>\n",
       "      <th>Low</th>\n",
       "      <th>Open</th>\n",
       "      <th>Volume</th>\n",
       "    </tr>\n",
       "  </thead>\n",
       "  <tbody>\n",
       "    <tr>\n",
       "      <th>1153</th>\n",
       "      <td>2025-01-02</td>\n",
       "      <td>189.2120819091797</td>\n",
       "      <td>191.7791328258186</td>\n",
       "      <td>187.2843094002135</td>\n",
       "      <td>190.43067970164262</td>\n",
       "      <td>20370800</td>\n",
       "    </tr>\n",
       "    <tr>\n",
       "      <th>1154</th>\n",
       "      <td>2025-01-03</td>\n",
       "      <td>191.56936645507812</td>\n",
       "      <td>192.9877463613902</td>\n",
       "      <td>189.76145103861666</td>\n",
       "      <td>191.14985143368122</td>\n",
       "      <td>18596200</td>\n",
       "    </tr>\n",
       "    <tr>\n",
       "      <th>1155</th>\n",
       "      <td>2025-01-06</td>\n",
       "      <td>196.64352416992188</td>\n",
       "      <td>197.99197728329852</td>\n",
       "      <td>193.6270092243641</td>\n",
       "      <td>193.75684931380115</td>\n",
       "      <td>29563600</td>\n",
       "    </tr>\n",
       "    <tr>\n",
       "      <th>1156</th>\n",
       "      <td>2025-01-07</td>\n",
       "      <td>195.26512145996094</td>\n",
       "      <td>200.7687774852745</td>\n",
       "      <td>194.37614589069548</td>\n",
       "      <td>196.8832529983184</td>\n",
       "      <td>26487200</td>\n",
       "    </tr>\n",
       "    <tr>\n",
       "      <th>1157</th>\n",
       "      <td>2025-01-08</td>\n",
       "      <td>193.7268829345703</td>\n",
       "      <td>196.06418741382137</td>\n",
       "      <td>192.1586969389352</td>\n",
       "      <td>192.3484808074723</td>\n",
       "      <td>24864800</td>\n",
       "    </tr>\n",
       "  </tbody>\n",
       "</table>\n",
       "</div>"
      ],
      "text/plain": [
       "           Date               Close                High                 Low  \\\n",
       "1153 2025-01-02   189.2120819091797   191.7791328258186   187.2843094002135   \n",
       "1154 2025-01-03  191.56936645507812   192.9877463613902  189.76145103861666   \n",
       "1155 2025-01-06  196.64352416992188  197.99197728329852   193.6270092243641   \n",
       "1156 2025-01-07  195.26512145996094   200.7687774852745  194.37614589069548   \n",
       "1157 2025-01-08   193.7268829345703  196.06418741382137   192.1586969389352   \n",
       "\n",
       "                    Open    Volume  \n",
       "1153  190.43067970164262  20370800  \n",
       "1154  191.14985143368122  18596200  \n",
       "1155  193.75684931380115  29563600  \n",
       "1156   196.8832529983184  26487200  \n",
       "1157   192.3484808074723  24864800  "
      ]
     },
     "execution_count": 24,
     "metadata": {},
     "output_type": "execute_result"
    }
   ],
   "source": [
    "incremental_df.head()"
   ]
  },
  {
   "cell_type": "code",
   "execution_count": 25,
   "id": "7f148345-5038-40b5-9ec8-0422fea590d4",
   "metadata": {},
   "outputs": [
    {
     "name": "stdout",
     "output_type": "stream",
     "text": [
      "<class 'pandas.core.frame.DataFrame'>\n",
      "Index: 103 entries, 1153 to 1255\n",
      "Data columns (total 6 columns):\n",
      " #   Column  Non-Null Count  Dtype         \n",
      "---  ------  --------------  -----         \n",
      " 0   Date    103 non-null    datetime64[ns]\n",
      " 1   Close   103 non-null    object        \n",
      " 2   High    103 non-null    object        \n",
      " 3   Low     103 non-null    object        \n",
      " 4   Open    103 non-null    object        \n",
      " 5   Volume  103 non-null    object        \n",
      "dtypes: datetime64[ns](1), object(5)\n",
      "memory usage: 5.6+ KB\n"
     ]
    }
   ],
   "source": [
    "# Check data types of the columns\n",
    "incremental_df.info()"
   ]
  },
  {
   "cell_type": "markdown",
   "id": "54a70c48-ffbd-4fd5-ad2e-ef2cf58d6a5c",
   "metadata": {},
   "source": [
    "Date has the correct data type which is datetime but the rest have wrong data types.\n",
    "\n",
    "Let's change their types into their appropriate ones."
   ]
  },
  {
   "cell_type": "code",
   "execution_count": 53,
   "id": "885772d4-b621-40e2-96ca-4516d2efa91f",
   "metadata": {},
   "outputs": [
    {
     "name": "stdout",
     "output_type": "stream",
     "text": [
      "<class 'pandas.core.frame.DataFrame'>\n",
      "Index: 103 entries, 1153 to 1255\n",
      "Data columns (total 7 columns):\n",
      " #   Column       Non-Null Count  Dtype         \n",
      "---  ------       --------------  -----         \n",
      " 0   Date         103 non-null    datetime64[ns]\n",
      " 1   Close        103 non-null    float64       \n",
      " 2   High         103 non-null    float64       \n",
      " 3   Low          103 non-null    float64       \n",
      " 4   Open         103 non-null    float64       \n",
      " 5   Volume       103 non-null    int32         \n",
      " 6   price_range  103 non-null    category      \n",
      "dtypes: category(1), datetime64[ns](1), float64(4), int32(1)\n",
      "memory usage: 5.5 KB\n"
     ]
    }
   ],
   "source": [
    "incremental_df.loc[:,\"Close\"] = incremental_df[\"Close\"].astype(\"float\")\n",
    "incremental_df.loc[:,\"High\"] = incremental_df[\"High\"].astype(\"float\")\n",
    "incremental_df.loc[:,\"Low\"] = incremental_df[\"Low\"].astype(\"float\")\n",
    "incremental_df.loc[:,\"Open\"] = incremental_df[\"Open\"].astype(\"float\")\n",
    "incremental_df.loc[:,\"Volume\"] = incremental_df[\"Volume\"].astype(\"int\")\n",
    "\n",
    "incremental_df.info()"
   ]
  },
  {
   "cell_type": "code",
   "execution_count": 28,
   "id": "d738bc70-eff5-41c4-8987-d8e69aa75c56",
   "metadata": {},
   "outputs": [
    {
     "data": {
      "text/plain": [
       "0"
      ]
     },
     "execution_count": 28,
     "metadata": {},
     "output_type": "execute_result"
    }
   ],
   "source": [
    "# Check for duplicates\n",
    "incremental_df.duplicated().sum()"
   ]
  },
  {
   "cell_type": "markdown",
   "id": "f9e36652-57f4-40fb-9f73-9803d5169405",
   "metadata": {},
   "source": [
    "Our data does not contain duplicated values."
   ]
  },
  {
   "cell_type": "code",
   "execution_count": 30,
   "id": "e7b9fbb9-eb61-4865-ad55-88ee7af5dfb5",
   "metadata": {},
   "outputs": [
    {
     "data": {
      "text/plain": [
       "0"
      ]
     },
     "execution_count": 30,
     "metadata": {},
     "output_type": "execute_result"
    }
   ],
   "source": [
    "# Check for missing values\n",
    "incremental_df.isnull().sum().sum()"
   ]
  },
  {
   "cell_type": "markdown",
   "id": "ff6cb7ff-eb5a-41f9-a037-66d113681fd2",
   "metadata": {},
   "source": [
    "We do not have any missing values."
   ]
  },
  {
   "cell_type": "code",
   "execution_count": 55,
   "id": "93f04031-4ec9-470d-8a15-3b484f5d08ba",
   "metadata": {},
   "outputs": [
    {
     "data": {
      "text/html": [
       "<div>\n",
       "<style scoped>\n",
       "    .dataframe tbody tr th:only-of-type {\n",
       "        vertical-align: middle;\n",
       "    }\n",
       "\n",
       "    .dataframe tbody tr th {\n",
       "        vertical-align: top;\n",
       "    }\n",
       "\n",
       "    .dataframe thead th {\n",
       "        text-align: right;\n",
       "    }\n",
       "</style>\n",
       "<table border=\"1\" class=\"dataframe\">\n",
       "  <thead>\n",
       "    <tr style=\"text-align: right;\">\n",
       "      <th></th>\n",
       "      <th>Date</th>\n",
       "      <th>Close</th>\n",
       "      <th>High</th>\n",
       "      <th>Low</th>\n",
       "      <th>Open</th>\n",
       "      <th>Volume</th>\n",
       "      <th>price_range</th>\n",
       "    </tr>\n",
       "  </thead>\n",
       "  <tbody>\n",
       "    <tr>\n",
       "      <th>1153</th>\n",
       "      <td>2025-01-02</td>\n",
       "      <td>189.212082</td>\n",
       "      <td>191.779133</td>\n",
       "      <td>187.284309</td>\n",
       "      <td>190.430680</td>\n",
       "      <td>20370800</td>\n",
       "      <td>High</td>\n",
       "    </tr>\n",
       "    <tr>\n",
       "      <th>1154</th>\n",
       "      <td>2025-01-03</td>\n",
       "      <td>191.569366</td>\n",
       "      <td>192.987746</td>\n",
       "      <td>189.761451</td>\n",
       "      <td>191.149851</td>\n",
       "      <td>18596200</td>\n",
       "      <td>High</td>\n",
       "    </tr>\n",
       "    <tr>\n",
       "      <th>1155</th>\n",
       "      <td>2025-01-06</td>\n",
       "      <td>196.643524</td>\n",
       "      <td>197.991977</td>\n",
       "      <td>193.627009</td>\n",
       "      <td>193.756849</td>\n",
       "      <td>29563600</td>\n",
       "      <td>High</td>\n",
       "    </tr>\n",
       "    <tr>\n",
       "      <th>1156</th>\n",
       "      <td>2025-01-07</td>\n",
       "      <td>195.265121</td>\n",
       "      <td>200.768777</td>\n",
       "      <td>194.376146</td>\n",
       "      <td>196.883253</td>\n",
       "      <td>26487200</td>\n",
       "      <td>High</td>\n",
       "    </tr>\n",
       "    <tr>\n",
       "      <th>1157</th>\n",
       "      <td>2025-01-08</td>\n",
       "      <td>193.726883</td>\n",
       "      <td>196.064187</td>\n",
       "      <td>192.158697</td>\n",
       "      <td>192.348481</td>\n",
       "      <td>24864800</td>\n",
       "      <td>High</td>\n",
       "    </tr>\n",
       "    <tr>\n",
       "      <th>1158</th>\n",
       "      <td>2025-01-10</td>\n",
       "      <td>191.819077</td>\n",
       "      <td>196.293934</td>\n",
       "      <td>190.091071</td>\n",
       "      <td>194.076486</td>\n",
       "      <td>26665200</td>\n",
       "      <td>High</td>\n",
       "    </tr>\n",
       "    <tr>\n",
       "      <th>1159</th>\n",
       "      <td>2025-01-13</td>\n",
       "      <td>190.790268</td>\n",
       "      <td>190.960071</td>\n",
       "      <td>187.144473</td>\n",
       "      <td>189.851362</td>\n",
       "      <td>21823700</td>\n",
       "      <td>High</td>\n",
       "    </tr>\n",
       "    <tr>\n",
       "      <th>1160</th>\n",
       "      <td>2025-01-14</td>\n",
       "      <td>189.441818</td>\n",
       "      <td>191.759141</td>\n",
       "      <td>188.093365</td>\n",
       "      <td>191.020002</td>\n",
       "      <td>17174900</td>\n",
       "      <td>High</td>\n",
       "    </tr>\n",
       "    <tr>\n",
       "      <th>1161</th>\n",
       "      <td>2025-01-15</td>\n",
       "      <td>195.325043</td>\n",
       "      <td>196.134108</td>\n",
       "      <td>191.639285</td>\n",
       "      <td>192.867866</td>\n",
       "      <td>21776000</td>\n",
       "      <td>High</td>\n",
       "    </tr>\n",
       "    <tr>\n",
       "      <th>1162</th>\n",
       "      <td>2025-01-16</td>\n",
       "      <td>192.688080</td>\n",
       "      <td>195.255115</td>\n",
       "      <td>192.588189</td>\n",
       "      <td>193.916661</td>\n",
       "      <td>17815400</td>\n",
       "      <td>High</td>\n",
       "    </tr>\n",
       "  </tbody>\n",
       "</table>\n",
       "</div>"
      ],
      "text/plain": [
       "           Date       Close        High         Low        Open    Volume  \\\n",
       "1153 2025-01-02  189.212082  191.779133  187.284309  190.430680  20370800   \n",
       "1154 2025-01-03  191.569366  192.987746  189.761451  191.149851  18596200   \n",
       "1155 2025-01-06  196.643524  197.991977  193.627009  193.756849  29563600   \n",
       "1156 2025-01-07  195.265121  200.768777  194.376146  196.883253  26487200   \n",
       "1157 2025-01-08  193.726883  196.064187  192.158697  192.348481  24864800   \n",
       "1158 2025-01-10  191.819077  196.293934  190.091071  194.076486  26665200   \n",
       "1159 2025-01-13  190.790268  190.960071  187.144473  189.851362  21823700   \n",
       "1160 2025-01-14  189.441818  191.759141  188.093365  191.020002  17174900   \n",
       "1161 2025-01-15  195.325043  196.134108  191.639285  192.867866  21776000   \n",
       "1162 2025-01-16  192.688080  195.255115  192.588189  193.916661  17815400   \n",
       "\n",
       "     price_range  \n",
       "1153        High  \n",
       "1154        High  \n",
       "1155        High  \n",
       "1156        High  \n",
       "1157        High  \n",
       "1158        High  \n",
       "1159        High  \n",
       "1160        High  \n",
       "1161        High  \n",
       "1162        High  "
      ]
     },
     "execution_count": 55,
     "metadata": {},
     "output_type": "execute_result"
    }
   ],
   "source": [
    "# Add a new column: price_range based on 'Close' price\n",
    "bins = [0, 100, 150, 200, float('inf')]\n",
    "labels = ['Low', 'Medium', 'High', 'Very High']\n",
    "incremental_df.loc[:,'price_range'] = pd.cut(incremental_df['Close'], bins=bins, labels=labels)\n",
    "incremental_df.head(10)"
   ]
  },
  {
   "cell_type": "code",
   "execution_count": 33,
   "id": "2cc1802e-4562-4dcd-bdf1-c11113025443",
   "metadata": {},
   "outputs": [
    {
     "data": {
      "text/html": [
       "<div>\n",
       "<style scoped>\n",
       "    .dataframe tbody tr th:only-of-type {\n",
       "        vertical-align: middle;\n",
       "    }\n",
       "\n",
       "    .dataframe tbody tr th {\n",
       "        vertical-align: top;\n",
       "    }\n",
       "\n",
       "    .dataframe thead th {\n",
       "        text-align: right;\n",
       "    }\n",
       "</style>\n",
       "<table border=\"1\" class=\"dataframe\">\n",
       "  <thead>\n",
       "    <tr style=\"text-align: right;\">\n",
       "      <th></th>\n",
       "      <th>Date</th>\n",
       "      <th>Close</th>\n",
       "      <th>High</th>\n",
       "      <th>Low</th>\n",
       "      <th>Open</th>\n",
       "      <th>Volume</th>\n",
       "      <th>price_range</th>\n",
       "    </tr>\n",
       "  </thead>\n",
       "  <tbody>\n",
       "    <tr>\n",
       "      <th>1153</th>\n",
       "      <td>2025-01-02</td>\n",
       "      <td>189.212082</td>\n",
       "      <td>191.779133</td>\n",
       "      <td>187.284309</td>\n",
       "      <td>190.430680</td>\n",
       "      <td>20370800</td>\n",
       "      <td>High</td>\n",
       "    </tr>\n",
       "    <tr>\n",
       "      <th>1154</th>\n",
       "      <td>2025-01-03</td>\n",
       "      <td>191.569366</td>\n",
       "      <td>192.987746</td>\n",
       "      <td>189.761451</td>\n",
       "      <td>191.149851</td>\n",
       "      <td>18596200</td>\n",
       "      <td>High</td>\n",
       "    </tr>\n",
       "    <tr>\n",
       "      <th>1155</th>\n",
       "      <td>2025-01-06</td>\n",
       "      <td>196.643524</td>\n",
       "      <td>197.991977</td>\n",
       "      <td>193.627009</td>\n",
       "      <td>193.756849</td>\n",
       "      <td>29563600</td>\n",
       "      <td>High</td>\n",
       "    </tr>\n",
       "    <tr>\n",
       "      <th>1156</th>\n",
       "      <td>2025-01-07</td>\n",
       "      <td>195.265121</td>\n",
       "      <td>200.768777</td>\n",
       "      <td>194.376146</td>\n",
       "      <td>196.883253</td>\n",
       "      <td>26487200</td>\n",
       "      <td>High</td>\n",
       "    </tr>\n",
       "    <tr>\n",
       "      <th>1157</th>\n",
       "      <td>2025-01-08</td>\n",
       "      <td>193.726883</td>\n",
       "      <td>196.064187</td>\n",
       "      <td>192.158697</td>\n",
       "      <td>192.348481</td>\n",
       "      <td>24864800</td>\n",
       "      <td>High</td>\n",
       "    </tr>\n",
       "  </tbody>\n",
       "</table>\n",
       "</div>"
      ],
      "text/plain": [
       "           Date       Close        High         Low        Open    Volume  \\\n",
       "1153 2025-01-02  189.212082  191.779133  187.284309  190.430680  20370800   \n",
       "1154 2025-01-03  191.569366  192.987746  189.761451  191.149851  18596200   \n",
       "1155 2025-01-06  196.643524  197.991977  193.627009  193.756849  29563600   \n",
       "1156 2025-01-07  195.265121  200.768777  194.376146  196.883253  26487200   \n",
       "1157 2025-01-08  193.726883  196.064187  192.158697  192.348481  24864800   \n",
       "\n",
       "     price_range  \n",
       "1153        High  \n",
       "1154        High  \n",
       "1155        High  \n",
       "1156        High  \n",
       "1157        High  "
      ]
     },
     "execution_count": 33,
     "metadata": {},
     "output_type": "execute_result"
    }
   ],
   "source": [
    "# Save transformed data\n",
    "incremental_df.to_csv(\"Download/transformed_incremental.csv\", index=False)\n",
    "\n",
    "# Preview transformed full data\n",
    "incremental_df.head()"
   ]
  }
 ],
 "metadata": {
  "kernelspec": {
   "display_name": "Python 3 (ipykernel)",
   "language": "python",
   "name": "python3"
  },
  "language_info": {
   "codemirror_mode": {
    "name": "ipython",
    "version": 3
   },
   "file_extension": ".py",
   "mimetype": "text/x-python",
   "name": "python",
   "nbconvert_exporter": "python",
   "pygments_lexer": "ipython3",
   "version": "3.12.4"
  }
 },
 "nbformat": 4,
 "nbformat_minor": 5
}
