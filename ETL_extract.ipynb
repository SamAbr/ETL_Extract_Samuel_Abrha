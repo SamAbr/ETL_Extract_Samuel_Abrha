{
 "cells": [
  {
   "cell_type": "markdown",
   "id": "fe424e83-8a1e-48ba-b9d4-0e22daa3163e",
   "metadata": {},
   "source": [
    "## Full Extraction\n",
    "Full extraction refers to extracting **all** data from a source system each time the extraction process runs, regardless of whether the data has changed or not.\n",
    "\n",
    "**Characteristics:**\n",
    "- Simpler to implement as it doesn't require tracking changes\n",
    "- Guarantees data consistency between source and target\n",
    "- Resource-intensive (requires processing all data every time)\n",
    "- Slower, especially with large datasets\n",
    "- May require more storage space\n",
    "\n",
    "**Use cases:** Small datasets, when source systems don't support change tracking, initial loads\n",
    "\n",
    "Let's fully extract all the records found in our source."
   ]
  },
  {
   "cell_type": "code",
   "execution_count": 174,
   "id": "a5508d0c-b13d-4205-8c0e-fd6707e1afef",
   "metadata": {},
   "outputs": [
    {
     "name": "stdout",
     "output_type": "stream",
     "text": [
      "Extracted 1256 rows fully.\n",
      "Shape: (1256, 6)\n"
     ]
    }
   ],
   "source": [
    "import pandas as pd\n",
    "\n",
    "# Load full dataset\n",
    "df = pd.read_csv(\"google_5yr_one.csv\")\n",
    "\n",
    "# Display basic stats\n",
    "print(f\"Extracted {len(df)} rows fully.\")\n",
    "print(\"Shape:\", df.shape)"
   ]
  },
  {
   "cell_type": "markdown",
   "id": "67653f52-3b62-4641-96c0-c802a480a10e",
   "metadata": {},
   "source": [
    "## Incremental Extraction\n",
    "Incremental extraction only retrieves data that has **changed** since the last extraction.\n",
    "\n",
    "**Characteristics:**\n",
    "- More complex to implement (requires change tracking)\n",
    "- More efficient (processes only changed data)\n",
    "- Faster execution\n",
    "- Less resource-intensive\n",
    "- Requires reliable change tracking mechanisms\n",
    "\n",
    "**Types of incremental extraction:**\n",
    "1. **Date/time-based:** Uses timestamp columns\n",
    "2. **Version number-based:** Uses version or sequence numbers\n",
    "3. **Log-based:** Reads database transaction logs\n",
    "4. **Trigger-based:** Uses database triggers to track changes\n",
    "\n",
    "**Use cases:** Large datasets, frequent updates, when source systems support change tracking\n",
    "\n",
    "First, let's create a text file to track our last date of extraction. Let say the last time we extracted data was on January 1st, 2025."
   ]
  },
  {
   "cell_type": "code",
   "execution_count": 176,
   "id": "df163d60-c481-4881-bcdd-c276a25b4670",
   "metadata": {},
   "outputs": [
    {
     "name": "stdout",
     "output_type": "stream",
     "text": [
      "Last extraction time saved as 'last_extraction.txt'\n"
     ]
    }
   ],
   "source": [
    "# Save last extraction date timestamp to last_extraction.txt\n",
    "last_extraction = datetime(2025, 1, 1, 0, 0, 0).strftime(\"%Y-%m-%d %H:%M:%S\")\n",
    "with open(\"last_extraction.txt\", \"w\") as f:\n",
    "    f.write(last_extraction)\n",
    "print(\"Last extraction time saved as 'last_extraction.txt'\")"
   ]
  },
  {
   "cell_type": "markdown",
   "id": "54771979-15f9-4798-8485-e8e239bf823a",
   "metadata": {},
   "source": [
    "**Now, we can extract the data recorded after our last time of extraction, which is January 1st, 2025.**"
   ]
  },
  {
   "cell_type": "code",
   "execution_count": 180,
   "id": "54ab6268-556a-454c-b5d4-7c4dadef1cf2",
   "metadata": {},
   "outputs": [
    {
     "name": "stdout",
     "output_type": "stream",
     "text": [
      "Extracted 103 rows incrementally since '2025-01-01 00:00:00'.\n",
      "Shape: (103, 6)\n"
     ]
    }
   ],
   "source": [
    "from datetime import datetime\n",
    "\n",
    "# Read last extraction timestamp\n",
    "with open(\"last_extraction.txt\", \"r\") as f:\n",
    "    last_extraction_str = f.read().strip()\n",
    "\n",
    "last_extraction = datetime.strptime(last_extraction_str, \"%Y-%m-%d %H:%M:%S\")\n",
    "\n",
    "# Convert 'Date' column to datetime\n",
    "df[\"Date\"] = pd.to_datetime(df[\"Date\"])\n",
    "\n",
    "# Filter for rows after last extraction\n",
    "new_data = df[df[\"Date\"] > last_extraction]\n",
    "\n",
    "print(f\"Extracted {len(new_data)} rows incrementally since '{last_extraction}'.\")\n",
    "print(\"Shape:\", new_data.shape)"
   ]
  },
  {
   "cell_type": "markdown",
   "id": "66587477-9e8d-44c0-8f56-de4c78038051",
   "metadata": {},
   "source": [
    "**Update the last time of extraction.**"
   ]
  },
  {
   "cell_type": "code",
   "execution_count": 188,
   "id": "93499ff8-df7c-4911-91ff-50864767fd81",
   "metadata": {},
   "outputs": [
    {
     "name": "stdout",
     "output_type": "stream",
     "text": [
      "Last extraction date updated to '2025-06-10 16:30:17'.\n"
     ]
    }
   ],
   "source": [
    "# Save current timestamp to last_extraction.txt\n",
    "now = datetime.now().strftime(\"%Y-%m-%d %H:%M:%S\")\n",
    "with open(\"last_extraction.txt\", \"w\") as f:\n",
    "    f.write(now)\n",
    "\n",
    "print(f\"Last extraction date updated to '{now}'.\")"
   ]
  }
 ],
 "metadata": {
  "kernelspec": {
   "display_name": "Python 3 (ipykernel)",
   "language": "python",
   "name": "python3"
  },
  "language_info": {
   "codemirror_mode": {
    "name": "ipython",
    "version": 3
   },
   "file_extension": ".py",
   "mimetype": "text/x-python",
   "name": "python",
   "nbconvert_exporter": "python",
   "pygments_lexer": "ipython3",
   "version": "3.12.4"
  }
 },
 "nbformat": 4,
 "nbformat_minor": 5
}
